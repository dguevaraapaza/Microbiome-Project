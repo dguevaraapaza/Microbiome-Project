{
 "cells": [
  {
   "cell_type": "markdown",
   "metadata": {},
   "source": [
    "# **Generating Taxonomic Profile from Microbiome Data**"
   ]
  },
  {
   "cell_type": "markdown",
   "metadata": {},
   "source": [
    "## **1. Importing data (generate artifact)**"
   ]
  },
  {
   "cell_type": "code",
   "execution_count": 3,
   "metadata": {},
   "outputs": [
    {
     "name": "stdout",
     "output_type": "stream",
     "text": [
      "\u001b[32mImported manifest.tsv as SingleEndFastqManifestPhred33V2 to sequences.qza\u001b[0m\n",
      "\u001b[0m"
     ]
    }
   ],
   "source": [
    "##### FASTAQ to Artifact #####\n",
    "# import the fasta files into a QIIME2 artifact\n",
    "!qiime tools import \\\n",
    "  --type 'SampleData[SequencesWithQuality]' \\\n",
    "  --input-format SingleEndFastqManifestPhred33V2 \\\n",
    "  --input-path manifest.tsv \\\n",
    "  --output-path sequences.qza"
   ]
  },
  {
   "cell_type": "code",
   "execution_count": 4,
   "metadata": {},
   "outputs": [
    {
     "name": "stdout",
     "output_type": "stream",
     "text": [
      "\u001b[32mSaved Visualization to: qualities.qzv\u001b[0m\n",
      "\u001b[0m"
     ]
    }
   ],
   "source": [
    "##### Artifact to Visualization #####\n",
    "# QIIME to visualize our sequencing data.\n",
    "!qiime demux summarize \\\n",
    "\t--i-data sequences.qza \\\n",
    "\t--o-visualization qualities.qzv"
   ]
  },
  {
   "cell_type": "code",
   "execution_count": 5,
   "metadata": {},
   "outputs": [
    {
     "name": "stdout",
     "output_type": "stream",
     "text": [
      "Press the 'q' key, Control-C, or Control-D to quit. This view may no longer be accessible or work correctly after quitting.[1560781:1560781:1211/135327.143715:ERROR:object_proxy.cc(576)] Failed to call method: org.freedesktop.ScreenSaver.GetActive: object_path= /org/freedesktop/ScreenSaver: org.freedesktop.DBus.Error.NotSupported: This method is not implemented\n",
      "[1560781:1560809:1211/135329.529074:ERROR:registration_request.cc(291)] Registration response error message: DEPRECATED_ENDPOINT\n",
      "Created TensorFlow Lite XNNPACK delegate for CPU.\n",
      "Attempting to use a delegate that only supports static-sized tensors with a graph that has dynamic-sized tensors (tensor#-1 is a dynamic-sized tensor).\n",
      "Warning: disabling flag --expose_wasm due to conflicting flags\n",
      "[1560833:1560833:1211/135343.641641:ERROR:gl_surface_presentation_helper.cc(260)] GetVSyncParametersIfAvailable() failed for 1 times!\n",
      "[1560833:1560833:1211/135345.777596:ERROR:gl_surface_presentation_helper.cc(260)] GetVSyncParametersIfAvailable() failed for 2 times!\n",
      "[1560833:1560833:1211/135356.439735:ERROR:gl_surface_presentation_helper.cc(260)] GetVSyncParametersIfAvailable() failed for 3 times!\n",
      "[1560781:1560809:1211/135358.405383:ERROR:registration_request.cc(291)] Registration response error message: DEPRECATED_ENDPOINT\n",
      "\n",
      "Press the 'q' key, Control-C, or Control-D to quit. This view may no longer be accessible or work correctly after quitting."
     ]
    }
   ],
   "source": [
    "# visualize\n",
    "!qiime tools view qualities.qzv"
   ]
  },
  {
   "cell_type": "markdown",
   "metadata": {},
   "source": [
    "## **2. Denoise/Demultiplex data**"
   ]
  },
  {
   "cell_type": "code",
   "execution_count": 6,
   "metadata": {},
   "outputs": [
    {
     "name": "stdout",
     "output_type": "stream",
     "text": [
      "Running external command line application(s). This may print messages to stdout and/or stderr.\n",
      "The command(s) being run are below. These commands cannot be manually re-run as they will depend on temporary files that no longer exist.\n",
      "\n",
      "Command: run_dada.R --input_directory /tmp/qiime2/davo/data/07969cdf-a5ec-49d8-a585-f91f4aba5419/data --output_path /tmp/tmp54cvbted/output.tsv.biom --output_track /tmp/tmp54cvbted/track.tsv --filtered_directory /tmp/tmp54cvbted --truncation_length 175 --trim_left 0 --max_expected_errors 2.0 --truncation_quality_score 2 --max_length Inf --pooling_method independent --chimera_method consensus --min_parental_fold 1.0 --allow_one_off False --num_threads 4 --learn_min_reads 1000000 --homopolymer_gap_penalty NULL --band_size 16\n",
      "\n",
      "R version 4.3.3 (2024-02-29) \n",
      "Loading required package: Rcpp\n",
      "\u001b[?25hDADA2: 1.30.0 / Rcpp: 1.0.13.1 / RcppParallel: 5.1.9 \n",
      "\u001b[?25h\u001b[?25h2) Filtering \u001b[?25hThe filter removed all reads: /tmp/tmp54cvbted/CSM5FZ3R_53_L001_R1_001.fastq.gz not written.\n",
      "The filter removed all reads: /tmp/tmp54cvbted/CSM5FZ3T_76_L001_R1_001.fastq.gz not written.\n",
      "The filter removed all reads: /tmp/tmp54cvbted/CSM5FZ42_148_L001_R1_001.fastq.gz not written.\n",
      "The filter removed all reads: /tmp/tmp54cvbted/CSM5FZ4A_7_L001_R1_001.fastq.gz not written.\n",
      "The filter removed all reads: /tmp/tmp54cvbted/CSM5FZ3V_175_L001_R1_001.fastq.gz not written.\n",
      "The filter removed all reads: /tmp/tmp54cvbted/CSM5FZ4C_128_L001_R1_001.fastq.gz not written.\n",
      "The filter removed all reads: /tmp/tmp54cvbted/CSM5FZ4K_169_L001_R1_001.fastq.gz not written.\n",
      "The filter removed all reads: /tmp/tmp54cvbted/CSM5MCTZ_62_L001_R1_001.fastq.gz not written.\n",
      "The filter removed all reads: /tmp/tmp54cvbted/CSM5MCUA_172_L001_R1_001.fastq.gz not written.\n",
      "The filter removed all reads: /tmp/tmp54cvbted/CSM5MCUC_102_L001_R1_001.fastq.gz not written.\n",
      "The filter removed all reads: /tmp/tmp54cvbted/CSM5MCUK_146_L001_R1_001.fastq.gz not written.\n",
      "The filter removed all reads: /tmp/tmp54cvbted/CSM5MCUW_59_L001_R1_001.fastq.gz not written.\n",
      "The filter removed all reads: /tmp/tmp54cvbted/CSM5MCUU_56_L001_R1_001.fastq.gz not written.\n",
      "The filter removed all reads: /tmp/tmp54cvbted/CSM5FZ4Q_142_L001_R1_001.fastq.gz not written.\n",
      "The filter removed all reads: /tmp/tmp54cvbted/CSM5MCU8_121_L001_R1_001.fastq.gz not written.\n",
      "The filter removed all reads: /tmp/tmp54cvbted/CSM5MCUG_65_L001_R1_001.fastq.gz not written.\n",
      "The filter removed all reads: /tmp/tmp54cvbted/CSM5MCUS_1_L001_R1_001.fastq.gz not written.\n",
      "The filter removed all reads: /tmp/tmp54cvbted/CSM5MCVX_0_L001_R1_001.fastq.gz not written.\n",
      "The filter removed all reads: /tmp/tmp54cvbted/CSM5MCWK_15_L001_R1_001.fastq.gz not written.\n",
      "The filter removed all reads: /tmp/tmp54cvbted/ESM5GEYW_144_L001_R1_001.fastq.gz not written.\n",
      "The filter removed all reads: /tmp/tmp54cvbted/ESM5GEZ3_60_L001_R1_001.fastq.gz not written.\n",
      "The filter removed all reads: /tmp/tmp54cvbted/CSM5MCWI_73_L001_R1_001.fastq.gz not written.\n",
      "The filter removed all reads: /tmp/tmp54cvbted/ESM5GEYU_80_L001_R1_001.fastq.gz not written.\n",
      "The filter removed all reads: /tmp/tmp54cvbted/ESM5GEZ1_112_L001_R1_001.fastq.gz not written.\n",
      "The filter removed all reads: /tmp/tmp54cvbted/CSM5MCWM_13_L001_R1_001.fastq.gz not written.\n",
      "The filter removed all reads: /tmp/tmp54cvbted/ESM5GEYX_120_L001_R1_001.fastq.gz not written.\n",
      "The filter removed all reads: /tmp/tmp54cvbted/ESM5GEZ4_126_L001_R1_001.fastq.gz not written.\n",
      "The filter removed all reads: /tmp/tmp54cvbted/ESM5ME9D_160_L001_R1_001.fastq.gz not written.\n",
      "The filter removed all reads: /tmp/tmp54cvbted/ESM5MEA9_153_L001_R1_001.fastq.gz not written.\n",
      "The filter removed all reads: /tmp/tmp54cvbted/ESM5MEBP_145_L001_R1_001.fastq.gz not written.\n",
      "The filter removed all reads: /tmp/tmp54cvbted/CSM5MCUE_170_L001_R1_001.fastq.gz not written.\n",
      "The filter removed all reads: /tmp/tmp54cvbted/CSM5MCUQ_116_L001_R1_001.fastq.gz not written.\n",
      "The filter removed all reads: /tmp/tmp54cvbted/CSM5MCUY_124_L001_R1_001.fastq.gz not written.\n",
      "The filter removed all reads: /tmp/tmp54cvbted/CSM5MCVJ_108_L001_R1_001.fastq.gz not written.\n",
      "The filter removed all reads: /tmp/tmp54cvbted/ESM5ME9H_2_L001_R1_001.fastq.gz not written.\n",
      "The filter removed all reads: /tmp/tmp54cvbted/HSM5FZC2_161_L001_R1_001.fastq.gz not written.\n",
      "The filter removed all reads: /tmp/tmp54cvbted/HSM5MD4W_45_L001_R1_001.fastq.gz not written.\n",
      "The filter removed all reads: /tmp/tmp54cvbted/ESM5GEYY_139_L001_R1_001.fastq.gz not written.\n",
      "The filter removed all reads: /tmp/tmp54cvbted/ESM5GEZ6_163_L001_R1_001.fastq.gz not written.\n",
      "The filter removed all reads: /tmp/tmp54cvbted/ESM5MEAB_91_L001_R1_001.fastq.gz not written.\n",
      "The filter removed all reads: /tmp/tmp54cvbted/HSM5MD82_156_L001_R1_001.fastq.gz not written.\n",
      "The filter removed all reads: /tmp/tmp54cvbted/HSM5MD8F_138_L001_R1_001.fastq.gz not written.\n",
      "The filter removed all reads: /tmp/tmp54cvbted/ESM5MEEJ_28_L001_R1_001.fastq.gz not written.\n",
      "The filter removed all reads: /tmp/tmp54cvbted/HSM5MD3J_95_L001_R1_001.fastq.gz not written.\n",
      "The filter removed all reads: /tmp/tmp54cvbted/HSM5MD51_173_L001_R1_001.fastq.gz not written.\n",
      "The filter removed all reads: /tmp/tmp54cvbted/HSM5MD5K_134_L001_R1_001.fastq.gz not written.\n",
      "The filter removed all reads: /tmp/tmp54cvbted/HSM5MD4S_162_L001_R1_001.fastq.gz not written.\n",
      "The filter removed all reads: /tmp/tmp54cvbted/HSM5MD57_157_L001_R1_001.fastq.gz not written.\n",
      "The filter removed all reads: /tmp/tmp54cvbted/HSM5MD8N_51_L001_R1_001.fastq.gz not written.\n",
      "The filter removed all reads: /tmp/tmp54cvbted/MSM5LLEH_18_L001_R1_001.fastq.gz not written.\n",
      "The filter removed all reads: /tmp/tmp54cvbted/MSM5LLEZ_141_L001_R1_001.fastq.gz not written.\n",
      "The filter removed all reads: /tmp/tmp54cvbted/MSM5LLGN_87_L001_R1_001.fastq.gz not written.\n",
      "The filter removed all reads: /tmp/tmp54cvbted/MSM5LLD6_29_L001_R1_001.fastq.gz not written.\n",
      "The filter removed all reads: /tmp/tmp54cvbted/MSM5LLE7_147_L001_R1_001.fastq.gz not written.\n",
      "The filter removed all reads: /tmp/tmp54cvbted/MSM5LLEL_31_L001_R1_001.fastq.gz not written.\n",
      "The filter removed all reads: /tmp/tmp54cvbted/MSM5LLFG_130_L001_R1_001.fastq.gz not written.\n",
      "The filter removed all reads: /tmp/tmp54cvbted/MSM5LLFQ_9_L001_R1_001.fastq.gz not written.\n",
      "The filter removed all reads: /tmp/tmp54cvbted/MSM5LLGF_94_L001_R1_001.fastq.gz not written.\n",
      "The filter removed all reads: /tmp/tmp54cvbted/MSM5LLGP_110_L001_R1_001.fastq.gz not written.\n",
      "The filter removed all reads: /tmp/tmp54cvbted/MSM5LLHX_98_L001_R1_001.fastq.gz not written.\n",
      "The filter removed all reads: /tmp/tmp54cvbted/MSM5LLI6_46_L001_R1_001.fastq.gz not written.\n",
      "The filter removed all reads: /tmp/tmp54cvbted/MSM5LLIG_149_L001_R1_001.fastq.gz not written.\n",
      "The filter removed all reads: /tmp/tmp54cvbted/MSM5LLH8_88_L001_R1_001.fastq.gz not written.\n",
      "The filter removed all reads: /tmp/tmp54cvbted/MSM5LLHQ_136_L001_R1_001.fastq.gz not written.\n",
      "The filter removed all reads: /tmp/tmp54cvbted/MSM5LLI8_78_L001_R1_001.fastq.gz not written.\n",
      "The filter removed all reads: /tmp/tmp54cvbted/MSM5LLII_99_L001_R1_001.fastq.gz not written.\n",
      "The filter removed all reads: /tmp/tmp54cvbted/HSM5MD4U_151_L001_R1_001.fastq.gz not written.\n",
      "The filter removed all reads: /tmp/tmp54cvbted/HSM5MD59_14_L001_R1_001.fastq.gz not written.\n",
      "The filter removed all reads: /tmp/tmp54cvbted/HSM5MD8A_131_L001_R1_001.fastq.gz not written.\n",
      "The filter removed all reads: /tmp/tmp54cvbted/HSM5MD8P_3_L001_R1_001.fastq.gz not written.\n",
      "The filter removed all reads: /tmp/tmp54cvbted/MSM5LLGR_4_L001_R1_001.fastq.gz not written.\n",
      "The filter removed all reads: /tmp/tmp54cvbted/MSM5LLH2_58_L001_R1_001.fastq.gz not written.\n",
      "The filter removed all reads: /tmp/tmp54cvbted/MSM5LLHA_104_L001_R1_001.fastq.gz not written.\n",
      "The filter removed all reads: /tmp/tmp54cvbted/MSM5LLHR_66_L001_R1_001.fastq.gz not written.\n",
      "The filter removed all reads: /tmp/tmp54cvbted/MSM5LLI2_26_L001_R1_001.fastq.gz not written.\n",
      "The filter removed all reads: /tmp/tmp54cvbted/MSM5LLE3_93_L001_R1_001.fastq.gz not written.\n",
      "The filter removed all reads: /tmp/tmp54cvbted/MSM5LLEB_77_L001_R1_001.fastq.gz not written.\n",
      "The filter removed all reads: /tmp/tmp54cvbted/MSM5LLFM_70_L001_R1_001.fastq.gz not written.\n",
      "The filter removed all reads: /tmp/tmp54cvbted/MSM5LLH4_90_L001_R1_001.fastq.gz not written.\n",
      "The filter removed all reads: /tmp/tmp54cvbted/MSM5LLHV_55_L001_R1_001.fastq.gz not written.\n",
      "The filter removed all reads: /tmp/tmp54cvbted/MSM5LLI4_167_L001_R1_001.fastq.gz not written.\n",
      "Some input samples had no reads pass the filter.\n",
      "\u001b[?25h.xxx..x...xx...x.xx..xxxxx.xxxxxx.......x.x..xxx.xxxxxxxx..x.x.xx..x........x......xx........xxxxxx.x..x..xx.xx.........x.x.x.xxx..xx.x.x...x..xxx...xx.xx......xxxx.xxxx..xx.......\u001b[?25h\u001b[?25h\u001b[?25h\n",
      "\u001b[?25h\u001b[?25h3) Learning Error Rates\n",
      "\u001b[?25h206542525 total bases in 1180243 reads from 8 samples will be used for learning the error rates.\n",
      "\u001b[?25h4) Denoise samples \n",
      "...................................................................................................\n",
      "\u001b[?25h5) Remove chimeras (method = consensus)\n",
      "\u001b[?25h\u001b[?25h6) Report read numbers through the pipeline\n",
      "\u001b[?25h\u001b[?25h7) Write output\n",
      "\u001b[?25h\u001b[?25h\u001b[?25h\u001b[?25h\u001b[?25h\u001b[?25h\u001b[?25h\u001b[32mSaved FeatureTable[Frequency] to: dada/table.qza\u001b[0m\n",
      "\u001b[32mSaved FeatureData[Sequence] to: dada/representative_sequences.qza\u001b[0m\n",
      "\u001b[32mSaved SampleData[DADA2Stats] to: dada/denoising_stats.qza\u001b[0m\n",
      "\u001b[0m"
     ]
    }
   ],
   "source": [
    "##### Quality Filtering: From Sequence to ASV ##### Change the trunc-len to 250\n",
    "!qiime dada2 denoise-single \\\n",
    "    --i-demultiplexed-seqs sequences.qza \\\n",
    "    --p-trunc-len 175 \\\n",
    "    --p-n-threads 4 \\\n",
    "    --output-dir dada --verbose"
   ]
  },
  {
   "cell_type": "markdown",
   "metadata": {},
   "source": [
    "## **3. Generating Feature table (OTU)**"
   ]
  },
  {
   "cell_type": "code",
   "execution_count": 7,
   "metadata": {},
   "outputs": [
    {
     "name": "stdout",
     "output_type": "stream",
     "text": [
      "\u001b[32mSaved Visualization to: denoising-stats.qzv\u001b[0m\n",
      "\u001b[0m"
     ]
    }
   ],
   "source": [
    "# Denoising statistics\n",
    "!qiime metadata tabulate \\\n",
    "    --m-input-file dada/denoising_stats.qza \\\n",
    "    --o-visualization denoising-stats.qzv"
   ]
  },
  {
   "cell_type": "code",
   "execution_count": 10,
   "metadata": {},
   "outputs": [
    {
     "name": "stdout",
     "output_type": "stream",
     "text": [
      "Press the 'q' key, Control-C, or Control-D to quit. This view may no longer be accessible or work correctly after quitting.Opening in existing browser session.\n",
      "\n",
      "Press the 'q' key, Control-C, or Control-D to quit. This view may no longer be accessible or work correctly after quitting."
     ]
    }
   ],
   "source": [
    "# visualize \n",
    "!qiime tools view denoising-stats.qzv"
   ]
  },
  {
   "cell_type": "code",
   "execution_count": 13,
   "metadata": {},
   "outputs": [
    {
     "name": "stdout",
     "output_type": "stream",
     "text": [
      "\u001b[32mSaved Visualization to: ./dada_freqtable.qzv\u001b[0m\n",
      "\u001b[0m"
     ]
    }
   ],
   "source": [
    "# Feature table summary\n",
    "!qiime feature-table summarize \\\n",
    "  --i-table ./dada/table.qza \\\n",
    "  --m-sample-metadata-file ./metadata.tsv \\\n",
    "  --o-visualization ./dada_freqtable.qzv"
   ]
  },
  {
   "cell_type": "code",
   "execution_count": 14,
   "metadata": {},
   "outputs": [
    {
     "name": "stdout",
     "output_type": "stream",
     "text": [
      "Press the 'q' key, Control-C, or Control-D to quit. This view may no longer be accessible or work correctly after quitting.Opening in existing browser session.\n",
      "\n",
      "Press the 'q' key, Control-C, or Control-D to quit. This view may no longer be accessible or work correctly after quitting."
     ]
    }
   ],
   "source": [
    "# visualize \n",
    "!qiime tools view ./dada_freqtable.qzv"
   ]
  },
  {
   "cell_type": "code",
   "execution_count": 15,
   "metadata": {},
   "outputs": [
    {
     "name": "stdout",
     "output_type": "stream",
     "text": [
      "\u001b[32mExported dada/table.qza as BIOMV210DirFmt to directory exported_table\u001b[0m\n",
      "\u001b[0m"
     ]
    }
   ],
   "source": [
    "# Export feature table\n",
    "!qiime tools export \\\n",
    "  --input-path dada/table.qza \\\n",
    "  --output-path exported_table"
   ]
  },
  {
   "cell_type": "markdown",
   "metadata": {},
   "source": [
    "## **4. Taxonomic Classification (math features to labels)**"
   ]
  },
  {
   "cell_type": "markdown",
   "metadata": {},
   "source": [
    "### **a. Silva 138 99% OTUs full-length sequences**"
   ]
  },
  {
   "cell_type": "code",
   "execution_count": null,
   "metadata": {},
   "outputs": [
    {
     "name": "stdout",
     "output_type": "stream",
     "text": [
      "2024-12-08 05:50:58 URL:https://s3-us-west-2.amazonaws.com/qiime2-data/classifiers/sklearn-1.4.2/silva/silva-138-99-nb-classifier.qza [218245868/218245868] -> \"silva-138-99-515-806-nb-classifier.qza\" [1]\n"
     ]
    }
   ],
   "source": [
    "# get the classifier\n",
    "# !wget -nv -O \\\n",
    "#   \"classifier/silva-138-99-nb-classifier.qza\" \\\n",
    "#   \"https://data.qiime2.org/classifiers/sklearn-1.4.2/silva/silva-138-99-nb-classifier.qza\""
   ]
  },
  {
   "cell_type": "code",
   "execution_count": 16,
   "metadata": {},
   "outputs": [
    {
     "name": "stdout",
     "output_type": "stream",
     "text": [
      "\u001b[32mSaved FeatureData[Taxonomy] to: silva-taxonomy.qza\u001b[0m\n",
      "\u001b[0m"
     ]
    }
   ],
   "source": [
    "# Get taxonomic OTU\n",
    "!qiime feature-classifier classify-sklearn \\\n",
    "  --i-classifier classifier/silva-138-99-nb-classifier.qza \\\n",
    "  --i-reads ./dada/representative_sequences.qza \\\n",
    "  --o-classification silva-taxonomy.qza"
   ]
  },
  {
   "cell_type": "code",
   "execution_count": 17,
   "metadata": {},
   "outputs": [
    {
     "name": "stdout",
     "output_type": "stream",
     "text": [
      "\u001b[32mExported silva-taxonomy.qza as TSVTaxonomyDirectoryFormat to directory exported_table\u001b[0m\n",
      "\u001b[0m"
     ]
    }
   ],
   "source": [
    "# Export TSV\n",
    "!qiime tools export \\\n",
    "  --input-path silva-taxonomy.qza \\\n",
    "  --output-path exported_table"
   ]
  },
  {
   "cell_type": "code",
   "execution_count": 18,
   "metadata": {},
   "outputs": [
    {
     "name": "stdout",
     "output_type": "stream",
     "text": [
      "\u001b[32mSaved Visualization to: taxa-barplot.qzv\u001b[0m\n",
      "\u001b[0m"
     ]
    }
   ],
   "source": [
    "# generate vizualization\n",
    "!qiime taxa barplot \\\n",
    "  --i-table ./dada/table.qza  \\\n",
    "  --i-taxonomy silva-taxonomy.qza \\\n",
    "  --m-metadata-file metadata.tsv \\\n",
    "  --o-visualization taxa-barplot.qzv"
   ]
  },
  {
   "cell_type": "code",
   "execution_count": 1,
   "metadata": {},
   "outputs": [
    {
     "name": "stdout",
     "output_type": "stream",
     "text": [
      "Press the 'q' key, Control-C, or Control-D to quit. This view may no longer be accessible or work correctly after quitting.Opening in existing browser session.\n",
      "\n",
      "Press the 'q' key, Control-C, or Control-D to quit. This view may no longer be accessible or work correctly after quitting."
     ]
    }
   ],
   "source": [
    "# visualize empress\n",
    "!qiime tools view taxa-barplot.qzv"
   ]
  },
  {
   "cell_type": "markdown",
   "metadata": {},
   "source": [
    "#### Get table for model"
   ]
  },
  {
   "cell_type": "code",
   "execution_count": 20,
   "metadata": {},
   "outputs": [],
   "source": [
    "### Combine OTU and Taxonomy data\n",
    "import biom\n",
    "import pandas as pd\n",
    "import numpy as np\n",
    "\n",
    "# Load the OTU table\n",
    "otu = biom.load_table('exported_table/feature-table.biom')\n",
    "otu = otu.to_dataframe()\n",
    "\n",
    "# Load the taxonomy table\n",
    "taxonomy = pd.read_csv('exported_table/taxonomy.tsv', sep='\\t', index_col=0)\n",
    "\n",
    "# Merge the OTU table with the taxonomy table\n",
    "otu_taxonomy_merged = pd.merge(taxonomy, otu, left_index=True, right_index=True)\n",
    "\n",
    "# Save the merged table to a CSV file\n",
    "otu_taxonomy_merged.to_csv('otu_with_taxonomy.csv')\n"
   ]
  },
  {
   "cell_type": "code",
   "execution_count": 21,
   "metadata": {},
   "outputs": [],
   "source": [
    "# Split the 'Taxon' column into multiple columns\n",
    "df_split = otu_taxonomy_merged['Taxon'].str.split(';', expand=True)\n",
    "\n",
    "# Assign the split columns to the original dataframe\n",
    "columns_to_update = ['Domain', 'Phylum', 'Class', 'Order', 'Family', 'Genus', 'Species']\n",
    "otu_taxonomy_merged[columns_to_update] = df_split\n",
    "\n",
    "# Remove the first 3 characters from the specified columns\n",
    "otu_taxonomy_merged[columns_to_update] = otu_taxonomy_merged[columns_to_update].apply(lambda x: x.str.slice(3))\n",
    "\n",
    "# Replace empty strings with np.nan in the specified columns\n",
    "otu_taxonomy_merged[columns_to_update] = otu_taxonomy_merged[columns_to_update].replace('' or 'ssigned', None)"
   ]
  },
  {
   "cell_type": "code",
   "execution_count": 22,
   "metadata": {},
   "outputs": [
    {
     "data": {
      "text/html": [
       "<div>\n",
       "<style scoped>\n",
       "    .dataframe tbody tr th:only-of-type {\n",
       "        vertical-align: middle;\n",
       "    }\n",
       "\n",
       "    .dataframe tbody tr th {\n",
       "        vertical-align: top;\n",
       "    }\n",
       "\n",
       "    .dataframe thead th {\n",
       "        text-align: right;\n",
       "    }\n",
       "</style>\n",
       "<table border=\"1\" class=\"dataframe\">\n",
       "  <thead>\n",
       "    <tr style=\"text-align: right;\">\n",
       "      <th></th>\n",
       "      <th>Taxon</th>\n",
       "      <th>Domain</th>\n",
       "      <th>Phylum</th>\n",
       "      <th>Class</th>\n",
       "      <th>Order</th>\n",
       "      <th>Family</th>\n",
       "      <th>Genus</th>\n",
       "      <th>Species</th>\n",
       "      <th>Confidence</th>\n",
       "      <th>CSM5FZ3N</th>\n",
       "      <th>...</th>\n",
       "      <th>MSM5LLFQ</th>\n",
       "      <th>ESM5MEBP</th>\n",
       "      <th>CSM5MCU8</th>\n",
       "      <th>CSM5MCWK</th>\n",
       "      <th>MSM5LLH8</th>\n",
       "      <th>MSM5LLEL</th>\n",
       "      <th>ESM5GEZ1</th>\n",
       "      <th>CSM5MCUC</th>\n",
       "      <th>HSM5MD4U</th>\n",
       "      <th>MSM5LLI2</th>\n",
       "    </tr>\n",
       "  </thead>\n",
       "  <tbody>\n",
       "    <tr>\n",
       "      <th>e555dbe2062a0ffcb4f273545b2674a6</th>\n",
       "      <td>d__Bacteria;p__Firmicutes;c__Clostridia;o__Pep...</td>\n",
       "      <td>Bacteria</td>\n",
       "      <td>Firmicutes</td>\n",
       "      <td>Clostridia</td>\n",
       "      <td>Peptococcales</td>\n",
       "      <td>Peptococcaceae</td>\n",
       "      <td>Peptococcus</td>\n",
       "      <td></td>\n",
       "      <td>0.999321</td>\n",
       "      <td>0</td>\n",
       "      <td>...</td>\n",
       "      <td>0</td>\n",
       "      <td>0</td>\n",
       "      <td>0</td>\n",
       "      <td>0</td>\n",
       "      <td>0</td>\n",
       "      <td>0</td>\n",
       "      <td>0</td>\n",
       "      <td>0</td>\n",
       "      <td>0</td>\n",
       "      <td>0</td>\n",
       "    </tr>\n",
       "    <tr>\n",
       "      <th>63763e4255f871b815820732e3ae4ec0</th>\n",
       "      <td>d__Bacteria;p__Firmicutes;c__Clostridia;o__Osc...</td>\n",
       "      <td>Bacteria</td>\n",
       "      <td>Firmicutes</td>\n",
       "      <td>Clostridia</td>\n",
       "      <td>Oscillospirales</td>\n",
       "      <td>Ruminococcaceae</td>\n",
       "      <td>Faecalibacterium</td>\n",
       "      <td></td>\n",
       "      <td>0.940070</td>\n",
       "      <td>0</td>\n",
       "      <td>...</td>\n",
       "      <td>0</td>\n",
       "      <td>0</td>\n",
       "      <td>0</td>\n",
       "      <td>0</td>\n",
       "      <td>0</td>\n",
       "      <td>0</td>\n",
       "      <td>0</td>\n",
       "      <td>0</td>\n",
       "      <td>0</td>\n",
       "      <td>0</td>\n",
       "    </tr>\n",
       "    <tr>\n",
       "      <th>6af6ac1420fe044e24359eef15c3cda2</th>\n",
       "      <td>d__Bacteria;p__Firmicutes;c__Clostridia;o__Osc...</td>\n",
       "      <td>Bacteria</td>\n",
       "      <td>Firmicutes</td>\n",
       "      <td>Clostridia</td>\n",
       "      <td>Oscillospirales</td>\n",
       "      <td>Ruminococcaceae</td>\n",
       "      <td>Faecalibacterium</td>\n",
       "      <td></td>\n",
       "      <td>0.900157</td>\n",
       "      <td>0</td>\n",
       "      <td>...</td>\n",
       "      <td>0</td>\n",
       "      <td>0</td>\n",
       "      <td>0</td>\n",
       "      <td>0</td>\n",
       "      <td>0</td>\n",
       "      <td>0</td>\n",
       "      <td>0</td>\n",
       "      <td>0</td>\n",
       "      <td>0</td>\n",
       "      <td>0</td>\n",
       "    </tr>\n",
       "    <tr>\n",
       "      <th>bd89cafb38710bddb7ef4c8531634e47</th>\n",
       "      <td>d__Bacteria;p__Firmicutes;c__Clostridia;o__Osc...</td>\n",
       "      <td>Bacteria</td>\n",
       "      <td>Firmicutes</td>\n",
       "      <td>Clostridia</td>\n",
       "      <td>Oscillospirales</td>\n",
       "      <td>Ruminococcaceae</td>\n",
       "      <td>Subdoligranulum</td>\n",
       "      <td></td>\n",
       "      <td>0.998394</td>\n",
       "      <td>0</td>\n",
       "      <td>...</td>\n",
       "      <td>0</td>\n",
       "      <td>0</td>\n",
       "      <td>0</td>\n",
       "      <td>0</td>\n",
       "      <td>0</td>\n",
       "      <td>0</td>\n",
       "      <td>0</td>\n",
       "      <td>0</td>\n",
       "      <td>0</td>\n",
       "      <td>0</td>\n",
       "    </tr>\n",
       "    <tr>\n",
       "      <th>cb1b80f3841b89cc8691183c24c6b87c</th>\n",
       "      <td>d__Bacteria;p__Firmicutes;c__Clostridia</td>\n",
       "      <td>Bacteria</td>\n",
       "      <td>Firmicutes</td>\n",
       "      <td>Clostridia</td>\n",
       "      <td>None</td>\n",
       "      <td>None</td>\n",
       "      <td>None</td>\n",
       "      <td>None</td>\n",
       "      <td>0.817713</td>\n",
       "      <td>0</td>\n",
       "      <td>...</td>\n",
       "      <td>0</td>\n",
       "      <td>0</td>\n",
       "      <td>0</td>\n",
       "      <td>0</td>\n",
       "      <td>0</td>\n",
       "      <td>0</td>\n",
       "      <td>0</td>\n",
       "      <td>0</td>\n",
       "      <td>0</td>\n",
       "      <td>0</td>\n",
       "    </tr>\n",
       "    <tr>\n",
       "      <th>...</th>\n",
       "      <td>...</td>\n",
       "      <td>...</td>\n",
       "      <td>...</td>\n",
       "      <td>...</td>\n",
       "      <td>...</td>\n",
       "      <td>...</td>\n",
       "      <td>...</td>\n",
       "      <td>...</td>\n",
       "      <td>...</td>\n",
       "      <td>...</td>\n",
       "      <td>...</td>\n",
       "      <td>...</td>\n",
       "      <td>...</td>\n",
       "      <td>...</td>\n",
       "      <td>...</td>\n",
       "      <td>...</td>\n",
       "      <td>...</td>\n",
       "      <td>...</td>\n",
       "      <td>...</td>\n",
       "      <td>...</td>\n",
       "      <td>...</td>\n",
       "    </tr>\n",
       "    <tr>\n",
       "      <th>451b459a5a35107cd1691274c807f8a2</th>\n",
       "      <td>d__Bacteria</td>\n",
       "      <td>Bacteria</td>\n",
       "      <td>None</td>\n",
       "      <td>None</td>\n",
       "      <td>None</td>\n",
       "      <td>None</td>\n",
       "      <td>None</td>\n",
       "      <td>None</td>\n",
       "      <td>0.766184</td>\n",
       "      <td>0</td>\n",
       "      <td>...</td>\n",
       "      <td>0</td>\n",
       "      <td>0</td>\n",
       "      <td>0</td>\n",
       "      <td>0</td>\n",
       "      <td>0</td>\n",
       "      <td>0</td>\n",
       "      <td>0</td>\n",
       "      <td>0</td>\n",
       "      <td>0</td>\n",
       "      <td>0</td>\n",
       "    </tr>\n",
       "    <tr>\n",
       "      <th>2846ae324ecc370a21433a16059eaa96</th>\n",
       "      <td>d__Eukaryota</td>\n",
       "      <td>Eukaryota</td>\n",
       "      <td>None</td>\n",
       "      <td>None</td>\n",
       "      <td>None</td>\n",
       "      <td>None</td>\n",
       "      <td>None</td>\n",
       "      <td>None</td>\n",
       "      <td>0.881866</td>\n",
       "      <td>0</td>\n",
       "      <td>...</td>\n",
       "      <td>0</td>\n",
       "      <td>0</td>\n",
       "      <td>0</td>\n",
       "      <td>0</td>\n",
       "      <td>0</td>\n",
       "      <td>0</td>\n",
       "      <td>0</td>\n",
       "      <td>0</td>\n",
       "      <td>0</td>\n",
       "      <td>0</td>\n",
       "    </tr>\n",
       "    <tr>\n",
       "      <th>4f68e8328bf3e815e9adb1d96d78fa69</th>\n",
       "      <td>d__Bacteria</td>\n",
       "      <td>Bacteria</td>\n",
       "      <td>None</td>\n",
       "      <td>None</td>\n",
       "      <td>None</td>\n",
       "      <td>None</td>\n",
       "      <td>None</td>\n",
       "      <td>None</td>\n",
       "      <td>0.767886</td>\n",
       "      <td>0</td>\n",
       "      <td>...</td>\n",
       "      <td>0</td>\n",
       "      <td>0</td>\n",
       "      <td>0</td>\n",
       "      <td>0</td>\n",
       "      <td>0</td>\n",
       "      <td>0</td>\n",
       "      <td>0</td>\n",
       "      <td>0</td>\n",
       "      <td>0</td>\n",
       "      <td>0</td>\n",
       "    </tr>\n",
       "    <tr>\n",
       "      <th>1d01290fe70c6ac4fa126625896349b5</th>\n",
       "      <td>Unassigned</td>\n",
       "      <td>None</td>\n",
       "      <td>None</td>\n",
       "      <td>None</td>\n",
       "      <td>None</td>\n",
       "      <td>None</td>\n",
       "      <td>None</td>\n",
       "      <td>None</td>\n",
       "      <td>0.557753</td>\n",
       "      <td>0</td>\n",
       "      <td>...</td>\n",
       "      <td>0</td>\n",
       "      <td>0</td>\n",
       "      <td>0</td>\n",
       "      <td>0</td>\n",
       "      <td>0</td>\n",
       "      <td>0</td>\n",
       "      <td>0</td>\n",
       "      <td>0</td>\n",
       "      <td>0</td>\n",
       "      <td>0</td>\n",
       "    </tr>\n",
       "    <tr>\n",
       "      <th>b9b962a34e45b9e3b1e2b9305b171cc6</th>\n",
       "      <td>d__Bacteria;p__Firmicutes;c__Bacilli;o__RF39;f...</td>\n",
       "      <td>Bacteria</td>\n",
       "      <td>Firmicutes</td>\n",
       "      <td>Bacilli</td>\n",
       "      <td>RF39</td>\n",
       "      <td>RF39</td>\n",
       "      <td>RF39</td>\n",
       "      <td></td>\n",
       "      <td>0.997083</td>\n",
       "      <td>0</td>\n",
       "      <td>...</td>\n",
       "      <td>0</td>\n",
       "      <td>0</td>\n",
       "      <td>0</td>\n",
       "      <td>0</td>\n",
       "      <td>0</td>\n",
       "      <td>0</td>\n",
       "      <td>0</td>\n",
       "      <td>0</td>\n",
       "      <td>0</td>\n",
       "      <td>0</td>\n",
       "    </tr>\n",
       "  </tbody>\n",
       "</table>\n",
       "<p>3023 rows × 189 columns</p>\n",
       "</div>"
      ],
      "text/plain": [
       "                                                                              Taxon  \\\n",
       "e555dbe2062a0ffcb4f273545b2674a6  d__Bacteria;p__Firmicutes;c__Clostridia;o__Pep...   \n",
       "63763e4255f871b815820732e3ae4ec0  d__Bacteria;p__Firmicutes;c__Clostridia;o__Osc...   \n",
       "6af6ac1420fe044e24359eef15c3cda2  d__Bacteria;p__Firmicutes;c__Clostridia;o__Osc...   \n",
       "bd89cafb38710bddb7ef4c8531634e47  d__Bacteria;p__Firmicutes;c__Clostridia;o__Osc...   \n",
       "cb1b80f3841b89cc8691183c24c6b87c            d__Bacteria;p__Firmicutes;c__Clostridia   \n",
       "...                                                                             ...   \n",
       "451b459a5a35107cd1691274c807f8a2                                        d__Bacteria   \n",
       "2846ae324ecc370a21433a16059eaa96                                       d__Eukaryota   \n",
       "4f68e8328bf3e815e9adb1d96d78fa69                                        d__Bacteria   \n",
       "1d01290fe70c6ac4fa126625896349b5                                         Unassigned   \n",
       "b9b962a34e45b9e3b1e2b9305b171cc6  d__Bacteria;p__Firmicutes;c__Bacilli;o__RF39;f...   \n",
       "\n",
       "                                     Domain      Phylum       Class  \\\n",
       "e555dbe2062a0ffcb4f273545b2674a6   Bacteria  Firmicutes  Clostridia   \n",
       "63763e4255f871b815820732e3ae4ec0   Bacteria  Firmicutes  Clostridia   \n",
       "6af6ac1420fe044e24359eef15c3cda2   Bacteria  Firmicutes  Clostridia   \n",
       "bd89cafb38710bddb7ef4c8531634e47   Bacteria  Firmicutes  Clostridia   \n",
       "cb1b80f3841b89cc8691183c24c6b87c   Bacteria  Firmicutes  Clostridia   \n",
       "...                                     ...         ...         ...   \n",
       "451b459a5a35107cd1691274c807f8a2   Bacteria        None        None   \n",
       "2846ae324ecc370a21433a16059eaa96  Eukaryota        None        None   \n",
       "4f68e8328bf3e815e9adb1d96d78fa69   Bacteria        None        None   \n",
       "1d01290fe70c6ac4fa126625896349b5       None        None        None   \n",
       "b9b962a34e45b9e3b1e2b9305b171cc6   Bacteria  Firmicutes     Bacilli   \n",
       "\n",
       "                                            Order           Family  \\\n",
       "e555dbe2062a0ffcb4f273545b2674a6    Peptococcales   Peptococcaceae   \n",
       "63763e4255f871b815820732e3ae4ec0  Oscillospirales  Ruminococcaceae   \n",
       "6af6ac1420fe044e24359eef15c3cda2  Oscillospirales  Ruminococcaceae   \n",
       "bd89cafb38710bddb7ef4c8531634e47  Oscillospirales  Ruminococcaceae   \n",
       "cb1b80f3841b89cc8691183c24c6b87c             None             None   \n",
       "...                                           ...              ...   \n",
       "451b459a5a35107cd1691274c807f8a2             None             None   \n",
       "2846ae324ecc370a21433a16059eaa96             None             None   \n",
       "4f68e8328bf3e815e9adb1d96d78fa69             None             None   \n",
       "1d01290fe70c6ac4fa126625896349b5             None             None   \n",
       "b9b962a34e45b9e3b1e2b9305b171cc6             RF39             RF39   \n",
       "\n",
       "                                             Genus Species  Confidence  \\\n",
       "e555dbe2062a0ffcb4f273545b2674a6       Peptococcus            0.999321   \n",
       "63763e4255f871b815820732e3ae4ec0  Faecalibacterium            0.940070   \n",
       "6af6ac1420fe044e24359eef15c3cda2  Faecalibacterium            0.900157   \n",
       "bd89cafb38710bddb7ef4c8531634e47   Subdoligranulum            0.998394   \n",
       "cb1b80f3841b89cc8691183c24c6b87c              None    None    0.817713   \n",
       "...                                            ...     ...         ...   \n",
       "451b459a5a35107cd1691274c807f8a2              None    None    0.766184   \n",
       "2846ae324ecc370a21433a16059eaa96              None    None    0.881866   \n",
       "4f68e8328bf3e815e9adb1d96d78fa69              None    None    0.767886   \n",
       "1d01290fe70c6ac4fa126625896349b5              None    None    0.557753   \n",
       "b9b962a34e45b9e3b1e2b9305b171cc6              RF39            0.997083   \n",
       "\n",
       "                                  CSM5FZ3N  ...  MSM5LLFQ  ESM5MEBP  CSM5MCU8  \\\n",
       "e555dbe2062a0ffcb4f273545b2674a6         0  ...         0         0         0   \n",
       "63763e4255f871b815820732e3ae4ec0         0  ...         0         0         0   \n",
       "6af6ac1420fe044e24359eef15c3cda2         0  ...         0         0         0   \n",
       "bd89cafb38710bddb7ef4c8531634e47         0  ...         0         0         0   \n",
       "cb1b80f3841b89cc8691183c24c6b87c         0  ...         0         0         0   \n",
       "...                                    ...  ...       ...       ...       ...   \n",
       "451b459a5a35107cd1691274c807f8a2         0  ...         0         0         0   \n",
       "2846ae324ecc370a21433a16059eaa96         0  ...         0         0         0   \n",
       "4f68e8328bf3e815e9adb1d96d78fa69         0  ...         0         0         0   \n",
       "1d01290fe70c6ac4fa126625896349b5         0  ...         0         0         0   \n",
       "b9b962a34e45b9e3b1e2b9305b171cc6         0  ...         0         0         0   \n",
       "\n",
       "                                  CSM5MCWK  MSM5LLH8  MSM5LLEL  ESM5GEZ1  \\\n",
       "e555dbe2062a0ffcb4f273545b2674a6         0         0         0         0   \n",
       "63763e4255f871b815820732e3ae4ec0         0         0         0         0   \n",
       "6af6ac1420fe044e24359eef15c3cda2         0         0         0         0   \n",
       "bd89cafb38710bddb7ef4c8531634e47         0         0         0         0   \n",
       "cb1b80f3841b89cc8691183c24c6b87c         0         0         0         0   \n",
       "...                                    ...       ...       ...       ...   \n",
       "451b459a5a35107cd1691274c807f8a2         0         0         0         0   \n",
       "2846ae324ecc370a21433a16059eaa96         0         0         0         0   \n",
       "4f68e8328bf3e815e9adb1d96d78fa69         0         0         0         0   \n",
       "1d01290fe70c6ac4fa126625896349b5         0         0         0         0   \n",
       "b9b962a34e45b9e3b1e2b9305b171cc6         0         0         0         0   \n",
       "\n",
       "                                  CSM5MCUC  HSM5MD4U  MSM5LLI2  \n",
       "e555dbe2062a0ffcb4f273545b2674a6         0         0         0  \n",
       "63763e4255f871b815820732e3ae4ec0         0         0         0  \n",
       "6af6ac1420fe044e24359eef15c3cda2         0         0         0  \n",
       "bd89cafb38710bddb7ef4c8531634e47         0         0         0  \n",
       "cb1b80f3841b89cc8691183c24c6b87c         0         0         0  \n",
       "...                                    ...       ...       ...  \n",
       "451b459a5a35107cd1691274c807f8a2         0         0         0  \n",
       "2846ae324ecc370a21433a16059eaa96         0         0         0  \n",
       "4f68e8328bf3e815e9adb1d96d78fa69         0         0         0  \n",
       "1d01290fe70c6ac4fa126625896349b5         0         0         0  \n",
       "b9b962a34e45b9e3b1e2b9305b171cc6         0         0         0  \n",
       "\n",
       "[3023 rows x 189 columns]"
      ]
     },
     "execution_count": 22,
     "metadata": {},
     "output_type": "execute_result"
    }
   ],
   "source": [
    "# Reorder columns to place columns_to_update after the 'Taxon' column\n",
    "cols = ['Taxon'] + columns_to_update + [col for col in otu_taxonomy_merged.columns if col not in ['Taxon'] + columns_to_update]\n",
    "otu_taxonomy_merged = otu_taxonomy_merged[cols]\n",
    "\n",
    "otu_taxonomy_merged"
   ]
  },
  {
   "cell_type": "markdown",
   "metadata": {},
   "source": [
    "#### Exploration"
   ]
  },
  {
   "cell_type": "code",
   "execution_count": 23,
   "metadata": {},
   "outputs": [
    {
     "name": "stdout",
     "output_type": "stream",
     "text": [
      "count    3023.000000\n",
      "mean        0.803355\n",
      "std         0.208818\n",
      "min         0.301606\n",
      "25%         0.641529\n",
      "50%         0.874125\n",
      "75%         0.996899\n",
      "max         1.000000\n",
      "Name: Confidence, dtype: float64\n"
     ]
    }
   ],
   "source": [
    "print(otu_taxonomy_merged['Confidence'].describe())"
   ]
  },
  {
   "cell_type": "code",
   "execution_count": 26,
   "metadata": {},
   "outputs": [
    {
     "data": {
      "text/plain": [
       "<Axes: >"
      ]
     },
     "execution_count": 26,
     "metadata": {},
     "output_type": "execute_result"
    }
   ],
   "source": [
    "import missingno as msno\n",
    "\n",
    "msno.matrix(otu_taxonomy_merged[columns_to_update])"
   ]
  },
  {
   "cell_type": "code",
   "execution_count": 27,
   "metadata": {},
   "outputs": [],
   "source": [
    "# export csv\n",
    "otu_taxonomy_merged.to_csv('otu_with_taxonomy.csv')"
   ]
  },
  {
   "cell_type": "markdown",
   "metadata": {},
   "source": [
    "## **5. Alpha Rarefaction and Selecting a Rarefaction Depth**"
   ]
  },
  {
   "cell_type": "code",
   "execution_count": 17,
   "metadata": {},
   "outputs": [
    {
     "name": "stdout",
     "output_type": "stream",
     "text": [
      "\u001b[32mSaved Visualization to: alpha_rarefaction_curves.qzv\u001b[0m\n",
      "\u001b[0m"
     ]
    }
   ],
   "source": [
    "# calculate rarefaction\n",
    "!qiime diversity alpha-rarefaction \\\n",
    "  --i-table ./dada/table.qza \\\n",
    "  --m-metadata-file metadata.tsv \\\n",
    "\t--p-min-depth 10 \\\n",
    "  --p-max-depth 4900 \\\n",
    "  --o-visualization alpha_rarefaction_curves.qzv"
   ]
  },
  {
   "cell_type": "code",
   "execution_count": 214,
   "metadata": {},
   "outputs": [
    {
     "name": "stdout",
     "output_type": "stream",
     "text": [
      "Press the 'q' key, Control-C, or Control-D to quit. This view may no longer be accessible or work correctly after quitting.Opening in existing browser session.\n",
      "\n",
      "Press the 'q' key, Control-C, or Control-D to quit. This view may no longer be accessible or work correctly after quitting."
     ]
    }
   ],
   "source": [
    "# visualize empress\n",
    "!qiime tools view alpha_rarefaction_curves.qzv"
   ]
  },
  {
   "cell_type": "markdown",
   "metadata": {},
   "source": [
    "## **6. Phylogenetics**"
   ]
  },
  {
   "cell_type": "code",
   "execution_count": 36,
   "metadata": {},
   "outputs": [
    {
     "name": "stdout",
     "output_type": "stream",
     "text": [
      "^C\n",
      "\n",
      "Aborted!\n"
     ]
    }
   ],
   "source": [
    "# Aligning sequences and constructing a phylogenetic tree with QIIME2\n",
    "!qiime phylogeny align-to-tree-mafft-fasttree \\\n",
    "\t--i-sequences dada/representative_sequences.qza \\\n",
    "\t--output-dir tree"
   ]
  },
  {
   "cell_type": "code",
   "execution_count": 14,
   "metadata": {},
   "outputs": [
    {
     "name": "stdout",
     "output_type": "stream",
     "text": [
      "\u001b[32mSaved Visualization to: tree/empress.qzv\u001b[0m\n",
      "\u001b[0m"
     ]
    }
   ],
   "source": [
    "# Visualization for the tree using the empress QIIME 2 plugin\n",
    "!qiime empress tree-plot \\\n",
    "\t--i-tree tree/rooted_tree.qza \\\n",
    "\t--o-visualization tree/empress.qzv"
   ]
  },
  {
   "cell_type": "code",
   "execution_count": 35,
   "metadata": {},
   "outputs": [
    {
     "name": "stdout",
     "output_type": "stream",
     "text": [
      "\u001b[32mExported taxonomy.qza as TSVTaxonomyDirectoryFormat to directory exported_table\u001b[0m\n",
      "\u001b[0m"
     ]
    }
   ],
   "source": [
    "# expoert the table\n",
    "!qiime tools export \\\n",
    "  --input-path taxonomy.qza \\\n",
    "  --output-path exported_table"
   ]
  },
  {
   "cell_type": "code",
   "execution_count": 15,
   "metadata": {},
   "outputs": [
    {
     "name": "stdout",
     "output_type": "stream",
     "text": [
      "Press the 'q' key, Control-C, or Control-D to quit. This view may no longer be accessible or work correctly after quitting.Opening in existing browser session.\n",
      "\n",
      "Press the 'q' key, Control-C, or Control-D to quit. This view may no longer be accessible or work correctly after quitting."
     ]
    }
   ],
   "source": [
    "# visualize empress\n",
    "!qiime tools view tree/empress.qzv"
   ]
  }
 ],
 "metadata": {
  "kernelspec": {
   "display_name": "qiime2-amplicon",
   "language": "python",
   "name": "python3"
  },
  "language_info": {
   "codemirror_mode": {
    "name": "ipython",
    "version": 3
   },
   "file_extension": ".py",
   "mimetype": "text/x-python",
   "name": "python",
   "nbconvert_exporter": "python",
   "pygments_lexer": "ipython3",
   "version": "3.10.14"
  }
 },
 "nbformat": 4,
 "nbformat_minor": 2
}
